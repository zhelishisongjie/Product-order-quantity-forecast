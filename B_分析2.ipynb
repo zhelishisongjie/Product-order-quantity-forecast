{
 "cells": [
  {
   "cell_type": "code",
   "execution_count": 1,
   "id": "e468c339",
   "metadata": {},
   "outputs": [],
   "source": [
    "import pandas as pd          \n",
    "import numpy as np\n",
    "import matplotlib.pyplot as plt\n",
    "from datetime import datetime    \n",
    "from pandas import Series \n",
    "from sklearn.metrics import mean_squared_error\n",
    "from math import sqrt\n",
    "from statsmodels.tsa.seasonal import seasonal_decompose\n",
    "import statsmodels\n",
    "import statsmodels.api as sm\n",
    "from statsmodels.tsa.arima_model import ARIMA\n",
    "%matplotlib inline\n",
    "plt.rcParams['font.sans-serif'] = [\"SimHei\"]\n",
    "plt.rcParams[\"axes.unicode_minus\"] = False"
   ]
  },
  {
   "cell_type": "markdown",
   "id": "223b9328",
   "metadata": {},
   "source": [
    "# 运用机器学习的思路寻找影响需求的特征"
   ]
  },
  {
   "cell_type": "code",
   "execution_count": 2,
   "id": "38d058c6",
   "metadata": {},
   "outputs": [
    {
     "data": {
      "text/html": [
       "<div>\n",
       "<style scoped>\n",
       "    .dataframe tbody tr th:only-of-type {\n",
       "        vertical-align: middle;\n",
       "    }\n",
       "\n",
       "    .dataframe tbody tr th {\n",
       "        vertical-align: top;\n",
       "    }\n",
       "\n",
       "    .dataframe thead th {\n",
       "        text-align: right;\n",
       "    }\n",
       "</style>\n",
       "<table border=\"1\" class=\"dataframe\">\n",
       "  <thead>\n",
       "    <tr style=\"text-align: right;\">\n",
       "      <th></th>\n",
       "      <th>order_date</th>\n",
       "      <th>order_date.1</th>\n",
       "      <th>sales_region_code</th>\n",
       "      <th>item_code</th>\n",
       "      <th>first_cate_code</th>\n",
       "      <th>second_cate_code</th>\n",
       "      <th>sales_chan_name</th>\n",
       "      <th>item_price</th>\n",
       "      <th>ord_qty</th>\n",
       "      <th>Year</th>\n",
       "      <th>...</th>\n",
       "      <th>is_quarter_start</th>\n",
       "      <th>is_quarter_end</th>\n",
       "      <th>is_year_start</th>\n",
       "      <th>is_year_end</th>\n",
       "      <th>is_workday</th>\n",
       "      <th>is_holiday</th>\n",
       "      <th>sales</th>\n",
       "      <th>Year Month</th>\n",
       "      <th>year</th>\n",
       "      <th>month</th>\n",
       "    </tr>\n",
       "  </thead>\n",
       "  <tbody>\n",
       "    <tr>\n",
       "      <th>0</th>\n",
       "      <td>2015-09-01</td>\n",
       "      <td>2015-09-01</td>\n",
       "      <td>104</td>\n",
       "      <td>22069</td>\n",
       "      <td>307</td>\n",
       "      <td>403</td>\n",
       "      <td>1</td>\n",
       "      <td>1114.0</td>\n",
       "      <td>19</td>\n",
       "      <td>2015</td>\n",
       "      <td>...</td>\n",
       "      <td>0</td>\n",
       "      <td>0</td>\n",
       "      <td>0</td>\n",
       "      <td>0</td>\n",
       "      <td>1</td>\n",
       "      <td>0</td>\n",
       "      <td>21166.0</td>\n",
       "      <td>2015-09</td>\n",
       "      <td>2015</td>\n",
       "      <td>9</td>\n",
       "    </tr>\n",
       "    <tr>\n",
       "      <th>1</th>\n",
       "      <td>2015-09-01</td>\n",
       "      <td>2015-09-01</td>\n",
       "      <td>104</td>\n",
       "      <td>20028</td>\n",
       "      <td>301</td>\n",
       "      <td>405</td>\n",
       "      <td>1</td>\n",
       "      <td>1012.0</td>\n",
       "      <td>12</td>\n",
       "      <td>2015</td>\n",
       "      <td>...</td>\n",
       "      <td>0</td>\n",
       "      <td>0</td>\n",
       "      <td>0</td>\n",
       "      <td>0</td>\n",
       "      <td>1</td>\n",
       "      <td>0</td>\n",
       "      <td>12144.0</td>\n",
       "      <td>2015-09</td>\n",
       "      <td>2015</td>\n",
       "      <td>9</td>\n",
       "    </tr>\n",
       "    <tr>\n",
       "      <th>2</th>\n",
       "      <td>2015-09-02</td>\n",
       "      <td>2015-09-02</td>\n",
       "      <td>104</td>\n",
       "      <td>21183</td>\n",
       "      <td>307</td>\n",
       "      <td>403</td>\n",
       "      <td>0</td>\n",
       "      <td>428.0</td>\n",
       "      <td>109</td>\n",
       "      <td>2015</td>\n",
       "      <td>...</td>\n",
       "      <td>0</td>\n",
       "      <td>0</td>\n",
       "      <td>0</td>\n",
       "      <td>0</td>\n",
       "      <td>1</td>\n",
       "      <td>0</td>\n",
       "      <td>46652.0</td>\n",
       "      <td>2015-09</td>\n",
       "      <td>2015</td>\n",
       "      <td>9</td>\n",
       "    </tr>\n",
       "    <tr>\n",
       "      <th>3</th>\n",
       "      <td>2015-09-02</td>\n",
       "      <td>2015-09-02</td>\n",
       "      <td>104</td>\n",
       "      <td>20448</td>\n",
       "      <td>308</td>\n",
       "      <td>404</td>\n",
       "      <td>0</td>\n",
       "      <td>962.0</td>\n",
       "      <td>3</td>\n",
       "      <td>2015</td>\n",
       "      <td>...</td>\n",
       "      <td>0</td>\n",
       "      <td>0</td>\n",
       "      <td>0</td>\n",
       "      <td>0</td>\n",
       "      <td>1</td>\n",
       "      <td>0</td>\n",
       "      <td>2886.0</td>\n",
       "      <td>2015-09</td>\n",
       "      <td>2015</td>\n",
       "      <td>9</td>\n",
       "    </tr>\n",
       "    <tr>\n",
       "      <th>4</th>\n",
       "      <td>2015-09-02</td>\n",
       "      <td>2015-09-02</td>\n",
       "      <td>104</td>\n",
       "      <td>21565</td>\n",
       "      <td>307</td>\n",
       "      <td>403</td>\n",
       "      <td>1</td>\n",
       "      <td>1400.0</td>\n",
       "      <td>3</td>\n",
       "      <td>2015</td>\n",
       "      <td>...</td>\n",
       "      <td>0</td>\n",
       "      <td>0</td>\n",
       "      <td>0</td>\n",
       "      <td>0</td>\n",
       "      <td>1</td>\n",
       "      <td>0</td>\n",
       "      <td>4200.0</td>\n",
       "      <td>2015-09</td>\n",
       "      <td>2015</td>\n",
       "      <td>9</td>\n",
       "    </tr>\n",
       "  </tbody>\n",
       "</table>\n",
       "<p>5 rows × 26 columns</p>\n",
       "</div>"
      ],
      "text/plain": [
       "   order_date order_date.1  sales_region_code  item_code  first_cate_code  \\\n",
       "0  2015-09-01   2015-09-01                104      22069              307   \n",
       "1  2015-09-01   2015-09-01                104      20028              301   \n",
       "2  2015-09-02   2015-09-02                104      21183              307   \n",
       "3  2015-09-02   2015-09-02                104      20448              308   \n",
       "4  2015-09-02   2015-09-02                104      21565              307   \n",
       "\n",
       "   second_cate_code  sales_chan_name  item_price  ord_qty  Year  ...  \\\n",
       "0               403                1      1114.0       19  2015  ...   \n",
       "1               405                1      1012.0       12  2015  ...   \n",
       "2               403                0       428.0      109  2015  ...   \n",
       "3               404                0       962.0        3  2015  ...   \n",
       "4               403                1      1400.0        3  2015  ...   \n",
       "\n",
       "   is_quarter_start  is_quarter_end  is_year_start  is_year_end  is_workday  \\\n",
       "0                 0               0              0            0           1   \n",
       "1                 0               0              0            0           1   \n",
       "2                 0               0              0            0           1   \n",
       "3                 0               0              0            0           1   \n",
       "4                 0               0              0            0           1   \n",
       "\n",
       "   is_holiday    sales  Year Month  year  month  \n",
       "0           0  21166.0     2015-09  2015      9  \n",
       "1           0  12144.0     2015-09  2015      9  \n",
       "2           0  46652.0     2015-09  2015      9  \n",
       "3           0   2886.0     2015-09  2015      9  \n",
       "4           0   4200.0     2015-09  2015      9  \n",
       "\n",
       "[5 rows x 26 columns]"
      ]
     },
     "execution_count": 2,
     "metadata": {},
     "output_type": "execute_result"
    }
   ],
   "source": [
    "df  = pd.read_csv(\"sales_data.csv\")\n",
    "df.head()\n"
   ]
  },
  {
   "cell_type": "code",
   "execution_count": 4,
   "id": "5d21fc32",
   "metadata": {
    "scrolled": true
   },
   "outputs": [
    {
     "data": {
      "text/plain": [
       "(583102, 26)"
      ]
     },
     "execution_count": 4,
     "metadata": {},
     "output_type": "execute_result"
    }
   ],
   "source": [
    "df.shape"
   ]
  },
  {
   "cell_type": "code",
   "execution_count": 5,
   "id": "d05cdd4b",
   "metadata": {},
   "outputs": [
    {
     "data": {
      "text/plain": [
       "Index(['order_date', 'order_date.1', 'sales_region_code', 'item_code',\n",
       "       'first_cate_code', 'second_cate_code', 'sales_chan_name', 'item_price',\n",
       "       'ord_qty', 'Year', 'Month', 'day', 'day of the week', 'quarter',\n",
       "       'is_month_start', 'is_month_end', 'is_quarter_start', 'is_quarter_end',\n",
       "       'is_year_start', 'is_year_end', 'is_workday', 'is_holiday', 'sales',\n",
       "       'Year Month', 'year', 'month'],\n",
       "      dtype='object')"
      ]
     },
     "execution_count": 5,
     "metadata": {},
     "output_type": "execute_result"
    }
   ],
   "source": [
    "df.columns"
   ]
  },
  {
   "cell_type": "code",
   "execution_count": 6,
   "id": "eae1887d",
   "metadata": {
    "scrolled": true
   },
   "outputs": [],
   "source": [
    "df[\"order_date\"]=df[\"order_date\"].apply(pd.to_datetime,format='%Y-%m-%d')"
   ]
  },
  {
   "cell_type": "code",
   "execution_count": 7,
   "id": "c4e3af05",
   "metadata": {},
   "outputs": [],
   "source": [
    "df = df.drop(['order_date.1'],axis=1)"
   ]
  },
  {
   "cell_type": "code",
   "execution_count": 8,
   "id": "52624932",
   "metadata": {},
   "outputs": [],
   "source": [
    "dff = df"
   ]
  },
  {
   "cell_type": "code",
   "execution_count": 9,
   "id": "852f2dc9",
   "metadata": {},
   "outputs": [
    {
     "name": "stderr",
     "output_type": "stream",
     "text": [
      "C:\\Users\\lenovo\\AppData\\Local\\Temp\\ipykernel_12656\\2338902091.py:4: SettingWithCopyWarning: \n",
      "A value is trying to be set on a copy of a slice from a DataFrame\n",
      "\n",
      "See the caveats in the documentation: https://pandas.pydata.org/pandas-docs/stable/user_guide/indexing.html#returning-a-view-versus-a-copy\n",
      "  dff['step'][0] = np.timedelta64(0, 's')#将第一个变量从naT更改为零\n"
     ]
    },
    {
     "data": {
      "text/html": [
       "<div>\n",
       "<style scoped>\n",
       "    .dataframe tbody tr th:only-of-type {\n",
       "        vertical-align: middle;\n",
       "    }\n",
       "\n",
       "    .dataframe tbody tr th {\n",
       "        vertical-align: top;\n",
       "    }\n",
       "\n",
       "    .dataframe thead th {\n",
       "        text-align: right;\n",
       "    }\n",
       "</style>\n",
       "<table border=\"1\" class=\"dataframe\">\n",
       "  <thead>\n",
       "    <tr style=\"text-align: right;\">\n",
       "      <th></th>\n",
       "      <th>order_date</th>\n",
       "      <th>sales_region_code</th>\n",
       "      <th>item_code</th>\n",
       "      <th>first_cate_code</th>\n",
       "      <th>second_cate_code</th>\n",
       "      <th>sales_chan_name</th>\n",
       "      <th>item_price</th>\n",
       "      <th>ord_qty</th>\n",
       "      <th>Year</th>\n",
       "      <th>Month</th>\n",
       "      <th>...</th>\n",
       "      <th>is_quarter_end</th>\n",
       "      <th>is_year_start</th>\n",
       "      <th>is_year_end</th>\n",
       "      <th>is_workday</th>\n",
       "      <th>is_holiday</th>\n",
       "      <th>sales</th>\n",
       "      <th>Year Month</th>\n",
       "      <th>year</th>\n",
       "      <th>month</th>\n",
       "      <th>step</th>\n",
       "    </tr>\n",
       "  </thead>\n",
       "  <tbody>\n",
       "    <tr>\n",
       "      <th>0</th>\n",
       "      <td>2015-09-01</td>\n",
       "      <td>104</td>\n",
       "      <td>22069</td>\n",
       "      <td>307</td>\n",
       "      <td>403</td>\n",
       "      <td>1</td>\n",
       "      <td>1114.0</td>\n",
       "      <td>19</td>\n",
       "      <td>2015</td>\n",
       "      <td>9</td>\n",
       "      <td>...</td>\n",
       "      <td>0</td>\n",
       "      <td>0</td>\n",
       "      <td>0</td>\n",
       "      <td>1</td>\n",
       "      <td>0</td>\n",
       "      <td>21166.0</td>\n",
       "      <td>2015-09</td>\n",
       "      <td>2015</td>\n",
       "      <td>9</td>\n",
       "      <td>0</td>\n",
       "    </tr>\n",
       "    <tr>\n",
       "      <th>1</th>\n",
       "      <td>2015-09-01</td>\n",
       "      <td>104</td>\n",
       "      <td>20028</td>\n",
       "      <td>301</td>\n",
       "      <td>405</td>\n",
       "      <td>1</td>\n",
       "      <td>1012.0</td>\n",
       "      <td>12</td>\n",
       "      <td>2015</td>\n",
       "      <td>9</td>\n",
       "      <td>...</td>\n",
       "      <td>0</td>\n",
       "      <td>0</td>\n",
       "      <td>0</td>\n",
       "      <td>1</td>\n",
       "      <td>0</td>\n",
       "      <td>12144.0</td>\n",
       "      <td>2015-09</td>\n",
       "      <td>2015</td>\n",
       "      <td>9</td>\n",
       "      <td>0</td>\n",
       "    </tr>\n",
       "    <tr>\n",
       "      <th>2</th>\n",
       "      <td>2015-09-02</td>\n",
       "      <td>104</td>\n",
       "      <td>21183</td>\n",
       "      <td>307</td>\n",
       "      <td>403</td>\n",
       "      <td>0</td>\n",
       "      <td>428.0</td>\n",
       "      <td>109</td>\n",
       "      <td>2015</td>\n",
       "      <td>9</td>\n",
       "      <td>...</td>\n",
       "      <td>0</td>\n",
       "      <td>0</td>\n",
       "      <td>0</td>\n",
       "      <td>1</td>\n",
       "      <td>0</td>\n",
       "      <td>46652.0</td>\n",
       "      <td>2015-09</td>\n",
       "      <td>2015</td>\n",
       "      <td>9</td>\n",
       "      <td>1</td>\n",
       "    </tr>\n",
       "    <tr>\n",
       "      <th>3</th>\n",
       "      <td>2015-09-02</td>\n",
       "      <td>104</td>\n",
       "      <td>20448</td>\n",
       "      <td>308</td>\n",
       "      <td>404</td>\n",
       "      <td>0</td>\n",
       "      <td>962.0</td>\n",
       "      <td>3</td>\n",
       "      <td>2015</td>\n",
       "      <td>9</td>\n",
       "      <td>...</td>\n",
       "      <td>0</td>\n",
       "      <td>0</td>\n",
       "      <td>0</td>\n",
       "      <td>1</td>\n",
       "      <td>0</td>\n",
       "      <td>2886.0</td>\n",
       "      <td>2015-09</td>\n",
       "      <td>2015</td>\n",
       "      <td>9</td>\n",
       "      <td>1</td>\n",
       "    </tr>\n",
       "    <tr>\n",
       "      <th>4</th>\n",
       "      <td>2015-09-02</td>\n",
       "      <td>104</td>\n",
       "      <td>21565</td>\n",
       "      <td>307</td>\n",
       "      <td>403</td>\n",
       "      <td>1</td>\n",
       "      <td>1400.0</td>\n",
       "      <td>3</td>\n",
       "      <td>2015</td>\n",
       "      <td>9</td>\n",
       "      <td>...</td>\n",
       "      <td>0</td>\n",
       "      <td>0</td>\n",
       "      <td>0</td>\n",
       "      <td>1</td>\n",
       "      <td>0</td>\n",
       "      <td>4200.0</td>\n",
       "      <td>2015-09</td>\n",
       "      <td>2015</td>\n",
       "      <td>9</td>\n",
       "      <td>1</td>\n",
       "    </tr>\n",
       "  </tbody>\n",
       "</table>\n",
       "<p>5 rows × 26 columns</p>\n",
       "</div>"
      ],
      "text/plain": [
       "  order_date  sales_region_code  item_code  first_cate_code  second_cate_code  \\\n",
       "0 2015-09-01                104      22069              307               403   \n",
       "1 2015-09-01                104      20028              301               405   \n",
       "2 2015-09-02                104      21183              307               403   \n",
       "3 2015-09-02                104      20448              308               404   \n",
       "4 2015-09-02                104      21565              307               403   \n",
       "\n",
       "   sales_chan_name  item_price  ord_qty  Year  Month  ...  is_quarter_end  \\\n",
       "0                1      1114.0       19  2015      9  ...               0   \n",
       "1                1      1012.0       12  2015      9  ...               0   \n",
       "2                0       428.0      109  2015      9  ...               0   \n",
       "3                0       962.0        3  2015      9  ...               0   \n",
       "4                1      1400.0        3  2015      9  ...               0   \n",
       "\n",
       "   is_year_start  is_year_end  is_workday  is_holiday    sales  Year Month  \\\n",
       "0              0            0           1           0  21166.0     2015-09   \n",
       "1              0            0           1           0  12144.0     2015-09   \n",
       "2              0            0           1           0  46652.0     2015-09   \n",
       "3              0            0           1           0   2886.0     2015-09   \n",
       "4              0            0           1           0   4200.0     2015-09   \n",
       "\n",
       "   year  month  step  \n",
       "0  2015      9     0  \n",
       "1  2015      9     0  \n",
       "2  2015      9     1  \n",
       "3  2015      9     1  \n",
       "4  2015      9     1  \n",
       "\n",
       "[5 rows x 26 columns]"
      ]
     },
     "execution_count": 9,
     "metadata": {},
     "output_type": "execute_result"
    }
   ],
   "source": [
    "#移动索引并查找差异\n",
    "dff['step'] = dff['order_date']-dff['order_date'].shift(1)\n",
    "zero = np.timedelta64(0, 's')       \n",
    "dff['step'][0] = np.timedelta64(0, 's')#将第一个变量从naT更改为零\n",
    "dff['step'] = dff['step'].apply(lambda x: x>zero).cumsum()\n",
    "dff.head()"
   ]
  },
  {
   "cell_type": "markdown",
   "id": "9bf56732",
   "metadata": {},
   "source": [
    "# 构建模型"
   ]
  },
  {
   "cell_type": "code",
   "execution_count": 46,
   "id": "fa6615a8",
   "metadata": {},
   "outputs": [],
   "source": [
    "from sklearn.model_selection import train_test_split\n",
    "from sklearn.linear_model import LinearRegression\n",
    "from sklearn import preprocessing\n",
    "\n",
    "\n",
    "from sklearn.metrics import mean_squared_error,roc_auc_score,precision_score,accuracy_score,log_loss\n",
    "from xgboost import XGBRegressor\n",
    "import lightgbm as lgb\n",
    "#optimizer \n",
    "\n",
    "from functools import partial"
   ]
  },
  {
   "cell_type": "code",
   "execution_count": 173,
   "id": "3714068e",
   "metadata": {},
   "outputs": [],
   "source": [
    "#pre = pd.read_csv('predict_sku0.csv')"
   ]
  },
  {
   "cell_type": "code",
   "execution_count": 47,
   "id": "6f657bed",
   "metadata": {},
   "outputs": [],
   "source": [
    "train_df = dff"
   ]
  },
  {
   "cell_type": "code",
   "execution_count": 48,
   "id": "8c276da3",
   "metadata": {},
   "outputs": [
    {
     "data": {
      "text/plain": [
       "Index(['order_date', 'sales_region_code', 'item_code', 'first_cate_code',\n",
       "       'second_cate_code', 'sales_chan_name', 'item_price', 'ord_qty', 'Year',\n",
       "       'Month', 'day', 'day of the week', 'quarter', 'is_month_start',\n",
       "       'is_month_end', 'is_quarter_start', 'is_quarter_end', 'is_year_start',\n",
       "       'is_year_end', 'is_workday', 'is_holiday', 'sales', 'year', 'month',\n",
       "       'step'],\n",
       "      dtype='object')"
      ]
     },
     "execution_count": 48,
     "metadata": {},
     "output_type": "execute_result"
    }
   ],
   "source": [
    "train_df.columns"
   ]
  },
  {
   "cell_type": "code",
   "execution_count": 49,
   "id": "cef70c51",
   "metadata": {},
   "outputs": [],
   "source": [
    "def smape(a, f):\n",
    "    return 1/len(a) * np.sum(2 * np.abs(f-a) / (np.abs(a) + np.abs(f))*100)"
   ]
  },
  {
   "cell_type": "code",
   "execution_count": 50,
   "id": "11670d03",
   "metadata": {},
   "outputs": [],
   "source": [
    "train_df['step^2'] = train_df['step']**2"
   ]
  },
  {
   "cell_type": "code",
   "execution_count": 51,
   "id": "64a8cb4a",
   "metadata": {},
   "outputs": [],
   "source": [
    "features = train_df[['sales_region_code', 'item_code', 'first_cate_code',\n",
    "       'second_cate_code', 'sales_chan_name', 'item_price','Year',\n",
    "       'Month', 'day', 'day of the week', 'quarter', 'is_month_start',\n",
    "       'is_month_end', 'is_quarter_start', 'is_quarter_end', 'is_year_start',\n",
    "       'is_year_end', 'is_workday', 'is_holiday', 'sales','step', 'step^2']]\n",
    "targets = train_df['ord_qty'] "
   ]
  },
  {
   "cell_type": "code",
   "execution_count": 52,
   "id": "2d884397",
   "metadata": {},
   "outputs": [],
   "source": [
    "# split data\n",
    "X_train,X_val,y_train,y_val = train_test_split(features,targets,test_size=0.05,shuffle=False)"
   ]
  },
  {
   "cell_type": "code",
   "execution_count": 53,
   "id": "9aff6027",
   "metadata": {},
   "outputs": [
    {
     "data": {
      "text/plain": [
       "LinearRegression()"
      ]
     },
     "execution_count": 53,
     "metadata": {},
     "output_type": "execute_result"
    }
   ],
   "source": [
    "model2 = LinearRegression()\n",
    "model2.fit(X_train, y_train)"
   ]
  },
  {
   "cell_type": "code",
   "execution_count": 54,
   "id": "1ed51b5c",
   "metadata": {},
   "outputs": [
    {
     "data": {
      "text/plain": [
       "89.17576112785504"
      ]
     },
     "execution_count": 54,
     "metadata": {},
     "output_type": "execute_result"
    }
   ],
   "source": [
    "smape(y_val,model2.predict(X_val))"
   ]
  },
  {
   "cell_type": "code",
   "execution_count": 55,
   "id": "91f313e3",
   "metadata": {
    "scrolled": true
   },
   "outputs": [
    {
     "name": "stdout",
     "output_type": "stream",
     "text": [
      "地  区 [104 102 101 105 103]\n",
      "大类别 [301 303 306 305 302 307 308 304]\n",
      "细类别 [405 401 407 402 412 408 403 410 404 409 406 411]\n"
     ]
    }
   ],
   "source": [
    "print(\"地  区\",train_df.sales_region_code.unique())\n",
    "print(\"大类别\",train_df.first_cate_code.unique())\n",
    "print(\"细类别\",train_df.second_cate_code.unique())"
   ]
  },
  {
   "cell_type": "markdown",
   "id": "b17c0e92",
   "metadata": {},
   "source": [
    "**一个地区一个地区去检验\n",
    "从101改至105，依次进行即可，之后可以根据需求对大类别特征，细类别特征进行探讨\n",
    "就修改下方region_1 = region_1[(region_1[\"sales_region_code\"]==101)]部分即可**"
   ]
  },
  {
   "cell_type": "code",
   "execution_count": 56,
   "id": "40fefc97",
   "metadata": {},
   "outputs": [],
   "source": [
    "region_1 = df.groupby(['sales_region_code', 'first_cate_code','second_cate_code','item_code']).sum().reset_index()"
   ]
  },
  {
   "cell_type": "code",
   "execution_count": 57,
   "id": "b83f19e1",
   "metadata": {},
   "outputs": [],
   "source": [
    "region_1 = region_1[(region_1[\"sales_region_code\"]==101)]"
   ]
  },
  {
   "cell_type": "code",
   "execution_count": 58,
   "id": "0f45eecc",
   "metadata": {},
   "outputs": [
    {
     "data": {
      "text/plain": [
       "[<matplotlib.lines.Line2D at 0x2e45cffffa0>]"
      ]
     },
     "execution_count": 58,
     "metadata": {},
     "output_type": "execute_result"
    },
    {
     "data": {
      "image/png": "[encoded data removed]",
      "text/plain": [
       "<Figure size 432x288 with 1 Axes>"
      ]
     },
     "metadata": {
      "needs_background": "light"
     },
     "output_type": "display_data"
    }
   ],
   "source": [
    "plt.plot(region_1.step,region_1.ord_qty)"
   ]
  },
  {
   "cell_type": "code",
   "execution_count": 59,
   "id": "45321e3d",
   "metadata": {},
   "outputs": [],
   "source": [
    "features = region_1[[ 'sales_region_code', 'item_code', 'first_cate_code',\n",
    "       'second_cate_code', 'sales_chan_name', 'item_price','Year',\n",
    "       'Month', 'day', 'day of the week', 'quarter', 'is_month_start',\n",
    "       'is_month_end', 'is_quarter_start', 'is_quarter_end', 'is_year_start',\n",
    "       'is_year_end', 'is_workday', 'is_holiday', 'sales','step', 'step^2']]\n",
    "                       \n",
    "targets = region_1['ord_qty']"
   ]
  },
  {
   "cell_type": "code",
   "execution_count": 60,
   "id": "4a41eefd",
   "metadata": {},
   "outputs": [],
   "source": [
    "# split data\n",
    "X_train,X_val,y_train,y_val = train_test_split(features,targets,test_size=0.05,shuffle=False)"
   ]
  },
  {
   "cell_type": "code",
   "execution_count": 61,
   "id": "58bdb5d2",
   "metadata": {},
   "outputs": [
    {
     "data": {
      "text/plain": [
       "98.03167520705503"
      ]
     },
     "execution_count": 61,
     "metadata": {},
     "output_type": "execute_result"
    }
   ],
   "source": [
    "model1 = LinearRegression()\n",
    "model1.fit(X_train, y_train)\n",
    "predictions = model1.predict(X_val)\n",
    "smape(y_val,predictions)"
   ]
  },
  {
   "cell_type": "code",
   "execution_count": 62,
   "id": "1e74f3c1",
   "metadata": {},
   "outputs": [
    {
     "data": {
      "text/plain": [
       "[<matplotlib.lines.Line2D at 0x2e45ccb27c0>]"
      ]
     },
     "execution_count": 62,
     "metadata": {},
     "output_type": "execute_result"
    },
    {
     "data": {
      "image/png": "[encoded data removed]",
      "text/plain": [
       "<Figure size 432x288 with 1 Axes>"
      ]
     },
     "metadata": {
      "needs_background": "light"
     },
     "output_type": "display_data"
    }
   ],
   "source": [
    "plt.plot(X_val.index,y_val)\n",
    "plt.plot(X_val.index,predictions)"
   ]
  },
  {
   "cell_type": "code",
   "execution_count": 63,
   "id": "2232452f",
   "metadata": {},
   "outputs": [
    {
     "name": "stderr",
     "output_type": "stream",
     "text": [
      "C:\\Users\\lenovo\\AppData\\Roaming\\Python\\Python39\\site-packages\\xgboost\\sklearn.py:861: UserWarning: `early_stopping_rounds` in `fit` method is deprecated for better compatibility with scikit-learn, use `early_stopping_rounds` in constructor or`set_params` instead.\n",
      "  warnings.warn(\n"
     ]
    },
    {
     "data": {
      "text/plain": [
       "XGBRegressor(base_score=0.5, booster='gbtree', callbacks=None,\n",
       "             colsample_bylevel=1, colsample_bynode=1, colsample_bytree=1,\n",
       "             early_stopping_rounds=None, enable_categorical=False,\n",
       "             eval_metric=None, feature_types=None, gamma=0, gpu_id=-1,\n",
       "             grow_policy='depthwise', importance_type=None,\n",
       "             interaction_constraints='', learning_rate=0.300000012, max_bin=256,\n",
       "             max_cat_threshold=64, max_cat_to_onehot=4, max_delta_step=0,\n",
       "             max_depth=6, max_leaves=0, min_child_weight=1, missing=nan,\n",
       "             monotone_constraints='()', n_estimators=1000, n_jobs=0,\n",
       "             num_parallel_tree=1, predictor='auto', random_state=0, ...)"
      ]
     },
     "execution_count": 63,
     "metadata": {},
     "output_type": "execute_result"
    }
   ],
   "source": [
    "import xgboost as xgb\n",
    "from xgboost import plot_importance, plot_tree\n",
    "\n",
    "params = {'lambda': 0.5364370292238032, 'alpha': 7.216972825550576, \n",
    "          'colsample_bytree': 0.9, 'subsample': 1.0, 'learning_rate': 0.008, \n",
    "          'n_estimators': 1500, 'max_depth': 17, 'min_child_weight': 1}\n",
    "xgb = xgb.XGBRegressor(n_estimators=1000)\n",
    "xgb.fit(X_train, y_train,\n",
    "        eval_set=[(X_train,y_train),(X_val, y_val)],\n",
    "        early_stopping_rounds=25,\n",
    "       verbose=False)"
   ]
  },
  {
   "cell_type": "code",
   "execution_count": 64,
   "id": "901b8e6a",
   "metadata": {},
   "outputs": [
    {
     "data": {
      "text/plain": [
       "[<matplotlib.lines.Line2D at 0x2e45cd6b3a0>]"
      ]
     },
     "execution_count": 64,
     "metadata": {},
     "output_type": "execute_result"
    },
    {
     "data": {
      "image/png": "[encoded data removed]",
      "text/plain": [
       "<Figure size 432x288 with 1 Axes>"
      ]
     },
     "metadata": {
      "needs_background": "light"
     },
     "output_type": "display_data"
    }
   ],
   "source": [
    "predictions = xgb.predict(X_val)\n",
    "plt.plot(X_val.index,predictions)\n",
    "plt.plot(X_val.index,y_val)"
   ]
  },
  {
   "cell_type": "code",
   "execution_count": 65,
   "id": "055285e0",
   "metadata": {},
   "outputs": [
    {
     "data": {
      "text/plain": [
       "30.41483734354367"
      ]
     },
     "execution_count": 65,
     "metadata": {},
     "output_type": "execute_result"
    }
   ],
   "source": [
    "smape(y_val,predictions)"
   ]
  },
  {
   "cell_type": "code",
   "execution_count": 66,
   "id": "8c5b4109",
   "metadata": {},
   "outputs": [
    {
     "data": {
      "image/png": "[encoded data removed]",
      "text/plain": [
       "<Figure size 720x576 with 1 Axes>"
      ]
     },
     "metadata": {
      "needs_background": "light"
     },
     "output_type": "display_data"
    }
   ],
   "source": [
    "from matplotlib import pyplot\n",
    "# plot learning curves\n",
    "results = xgb.evals_result()\n",
    "plt.figure(figsize=(10, 8))\n",
    "pyplot.plot(results['validation_0']['rmse'], label='train')\n",
    "pyplot.plot(results['validation_1']['rmse'], label='test')\n",
    "# show the legend\n",
    "pyplot.legend()\n",
    "plt.xlabel('iterations')\n",
    "plt.ylabel('rmse')\n",
    "# show the plot\n",
    "pyplot.show()"
   ]
  },
  {
   "cell_type": "code",
   "execution_count": 67,
   "id": "60facefc",
   "metadata": {},
   "outputs": [
    {
     "data": {
      "text/plain": [
       "Index(['sales_region_code', 'item_code', 'first_cate_code', 'second_cate_code',\n",
       "       'sales_chan_name', 'item_price', 'Year', 'Month', 'day',\n",
       "       'day of the week', 'quarter', 'is_month_start', 'is_month_end',\n",
       "       'is_quarter_start', 'is_quarter_end', 'is_year_start', 'is_year_end',\n",
       "       'is_workday', 'is_holiday', 'sales', 'step', 'step^2'],\n",
       "      dtype='object')"
      ]
     },
     "execution_count": 67,
     "metadata": {},
     "output_type": "execute_result"
    }
   ],
   "source": [
    "features.columns"
   ]
  },
  {
   "cell_type": "code",
   "execution_count": 68,
   "id": "c2d421fc",
   "metadata": {},
   "outputs": [],
   "source": [
    "features = train_df[[ 'sales_region_code', 'item_code', 'first_cate_code',\n",
    "       'second_cate_code', 'sales_chan_name', 'item_price','Year',\n",
    "       'Month', 'day', 'day of the week', 'quarter', 'is_month_start',\n",
    "       'is_month_end', 'is_quarter_start', 'is_quarter_end', 'is_year_start',\n",
    "       'is_year_end', 'is_workday', 'is_holiday', 'sales','step', 'step^2']]\n",
    "targets = train_df['ord_qty']"
   ]
  },
  {
   "cell_type": "code",
   "execution_count": 69,
   "id": "479425bb",
   "metadata": {},
   "outputs": [],
   "source": [
    "# split data\n",
    "X_train,X_val,y_train,y_val = train_test_split(features,targets,test_size=0.05,shuffle=False)"
   ]
  },
  {
   "cell_type": "code",
   "execution_count": 70,
   "id": "bfb9521e",
   "metadata": {},
   "outputs": [
    {
     "data": {
      "text/plain": [
       "89.17576112785504"
      ]
     },
     "execution_count": 70,
     "metadata": {},
     "output_type": "execute_result"
    }
   ],
   "source": [
    "model1 = LinearRegression()\n",
    "model1.fit(X_train, y_train)\n",
    "smape(y_val,model1.predict(X_val))"
   ]
  },
  {
   "cell_type": "code",
   "execution_count": 71,
   "id": "f30553ee",
   "metadata": {},
   "outputs": [
    {
     "data": {
      "text/plain": [
       "array([ 51.57786791,  13.72581146,  59.84545648, ...,  16.28891462,\n",
       "       228.6741891 , 131.77527986])"
      ]
     },
     "execution_count": 71,
     "metadata": {},
     "output_type": "execute_result"
    }
   ],
   "source": [
    "model1.predict(X_val)"
   ]
  },
  {
   "cell_type": "code",
   "execution_count": 93,
   "id": "c21b8f07",
   "metadata": {},
   "outputs": [
    {
     "name": "stderr",
     "output_type": "stream",
     "text": [
      "C:\\Users\\lenovo\\AppData\\Roaming\\Python\\Python39\\site-packages\\xgboost\\sklearn.py:861: UserWarning: `early_stopping_rounds` in `fit` method is deprecated for better compatibility with scikit-learn, use `early_stopping_rounds` in constructor or`set_params` instead.\n",
      "  warnings.warn(\n"
     ]
    },
    {
     "data": {
      "text/plain": [
       "XGBRegressor(base_score=0.5, booster='gbtree', callbacks=None,\n",
       "             colsample_bylevel=1, colsample_bynode=1, colsample_bytree=1,\n",
       "             early_stopping_rounds=None, enable_categorical=False,\n",
       "             eval_metric=None, feature_types=None, gamma=0, gpu_id=-1,\n",
       "             grow_policy='depthwise', importance_type=None,\n",
       "             interaction_constraints='', learning_rate=0.300000012, max_bin=256,\n",
       "             max_cat_threshold=64, max_cat_to_onehot=4, max_delta_step=0,\n",
       "             max_depth=6, max_leaves=0, min_child_weight=1, missing=nan,\n",
       "             monotone_constraints='()', n_estimators=1200, n_jobs=0,\n",
       "             num_parallel_tree=1, predictor='auto', random_state=0, ...)"
      ]
     },
     "execution_count": 93,
     "metadata": {},
     "output_type": "execute_result"
    }
   ],
   "source": [
    "import xgboost as xgb\n",
    "from xgboost import plot_importance, plot_tree\n",
    "\n",
    "xgb = xgb.XGBRegressor(n_estimators=1200)\n",
    "xgb.fit(X_train, y_train,\n",
    "        eval_set=[(X_train,y_train),(X_val, y_val)],\n",
    "        early_stopping_rounds=30,\n",
    "       verbose=False)"
   ]
  },
  {
   "cell_type": "code",
   "execution_count": 94,
   "id": "a4b24d2c",
   "metadata": {},
   "outputs": [
    {
     "data": {
      "text/plain": [
       "2.0951154199698863"
      ]
     },
     "execution_count": 94,
     "metadata": {},
     "output_type": "execute_result"
    }
   ],
   "source": [
    "predictions = xgb.predict(X_val)\n",
    "smape(y_val,predictions)"
   ]
  },
  {
   "cell_type": "code",
   "execution_count": 95,
   "id": "a3be6459",
   "metadata": {},
   "outputs": [
    {
     "data": {
      "text/plain": [
       "<AxesSubplot:title={'center':'Feature importance'}, xlabel='F score', ylabel='Features'>"
      ]
     },
     "execution_count": 95,
     "metadata": {},
     "output_type": "execute_result"
    },
    {
     "data": {
      "image/png": "[encoded data removed]",
      "text/plain": [
       "<Figure size 432x288 with 1 Axes>"
      ]
     },
     "metadata": {
      "needs_background": "light"
     },
     "output_type": "display_data"
    }
   ],
   "source": [
    "plot_importance(xgb)"
   ]
  },
  {
   "cell_type": "code",
   "execution_count": 87,
   "id": "c58c81e8",
   "metadata": {},
   "outputs": [],
   "source": [
    "results = xgb.evals_result()"
   ]
  },
  {
   "cell_type": "code",
   "execution_count": 96,
   "id": "6107e0bf",
   "metadata": {},
   "outputs": [
    {
     "data": {
      "image/png": "[encoded data removed]",
      "text/plain": [
       "<Figure size 720x576 with 1 Axes>"
      ]
     },
     "metadata": {
      "needs_background": "light"
     },
     "output_type": "display_data"
    }
   ],
   "source": [
    "from matplotlib import pyplot\n",
    "# plot learning curves\n",
    "plt.figure(figsize=(10, 8))\n",
    "pyplot.plot(results['validation_0']['rmse'], label='train')\n",
    "pyplot.plot(results['validation_1']['rmse'], label='test')\n",
    "# show the legend\n",
    "pyplot.legend(fontsize = 25)\n",
    "plt.xlabel('iterations',fontsize = 25)\n",
    "plt.ylabel('rmse',fontsize = 25)\n",
    "# show the plot\n",
    "pyplot.show()"
   ]
  },
  {
   "cell_type": "code",
   "execution_count": 78,
   "id": "e3a1924c",
   "metadata": {},
   "outputs": [
    {
     "data": {
      "text/plain": [
       "5.581832301982231"
      ]
     },
     "execution_count": 78,
     "metadata": {},
     "output_type": "execute_result"
    }
   ],
   "source": [
    "from catboost import CatBoostRegressor\n",
    "cat = CatBoostRegressor()\n",
    "cat.fit(X_train,y_train,eval_set=(X_val,y_val),early_stopping_rounds=500,verbose=False)\n",
    "smape(y_val,cat.predict(X_val))"
   ]
  },
  {
   "cell_type": "code",
   "execution_count": null,
   "id": "e43dcebc",
   "metadata": {},
   "outputs": [],
   "source": [
    "#超参数调整 "
   ]
  },
  {
   "cell_type": "code",
   "execution_count": 79,
   "id": "29cacf36",
   "metadata": {},
   "outputs": [],
   "source": [
    "def objective(trial,X,y, name='xgb'):\n",
    "    params = param = {\n",
    "        'tree_method':'gpu_hist',  \n",
    "        'lambda': trial.suggest_loguniform(\n",
    "            'lambda', 1e-3, 10.0\n",
    "        ),\n",
    "        'alpha': trial.suggest_loguniform(\n",
    "            'alpha', 1e-3, 10.0\n",
    "        ),\n",
    "        'eta': trial.suggest_float('eta', 1e-5, 0.1),\n",
    "        'colsample_bytree': trial.suggest_categorical(\n",
    "            'colsample_bytree', [0.5,0.6,0.7,0.8,0.9,1.0]\n",
    "        ),\n",
    "        'subsample': trial.suggest_categorical( \n",
    "            'subsample', [0.6,0.7,0.8,1.0]\n",
    "        ),\n",
    "        'learning_rate': trial.suggest_categorical(\n",
    "            'learning_rate', [0.008,0.009,0.01,0.012,0.014,0.016,0.018, 0.02]\n",
    "        ),\n",
    "        'n_estimators': trial.suggest_categorical(\n",
    "            \"n_estimators\", [150, 200, 300,1000, 1500,2000, 3000]\n",
    "        ),\n",
    "        'max_depth': trial.suggest_categorical(\n",
    "            'max_depth', [4,5,7,9,11,13,15,17]\n",
    "        ),\n",
    "        'random_state': 42,\n",
    "        'min_child_weight': trial.suggest_int(\n",
    "            'min_child_weight', 1, 300\n",
    "        ),\n",
    "        'random_state':15\n",
    "    }\n",
    "\n",
    "    model =  XGBRegressor(**params)\n",
    "    model.fit(X_train,y_train,eval_set=[(X_val,y_val)],early_stopping_rounds=50,verbose=False)\n",
    "\n",
    "\n",
    "    train_score = np.round(np.sqrt(mean_squared_error(y_train, model.predict(X_train))), 5)\n",
    "    test_score = np.round(np.sqrt(mean_squared_error(y_val, model.predict(X_val))), 5)\n",
    "                  \n",
    "    print(f'TRAIN RMSE : {train_score} || TEST RMSE : {test_score}')\n",
    "                  \n",
    "    return test_score"
   ]
  },
  {
   "cell_type": "code",
   "execution_count": 80,
   "id": "6a6daef7",
   "metadata": {},
   "outputs": [],
   "source": [
    "params ={'lambda': 0.0012338191278124635, 'alpha': 3.284395992431614, 'eta': 0.09886834650237164, 'colsample_bytree': 0.9, 'subsample': 0.6, 'learning_rate': 0.018, 'n_estimators': 2000, 'max_depth': 5, 'min_child_weight': 3}"
   ]
  },
  {
   "cell_type": "code",
   "execution_count": 81,
   "id": "812a586c",
   "metadata": {},
   "outputs": [
    {
     "data": {
      "text/plain": [
       "XGBRegressor(alpha=3.284395992431614, base_score=0.5, booster='gbtree',\n",
       "             callbacks=None, colsample_bylevel=1, colsample_bynode=1,\n",
       "             colsample_bytree=0.9, early_stopping_rounds=None,\n",
       "             enable_categorical=False, eta=0.09886834650237164,\n",
       "             eval_metric=None, feature_types=None, gamma=0, gpu_id=-1,\n",
       "             grow_policy='depthwise', importance_type=None,\n",
       "             interaction_constraints='', lambda=0.0012338191278124635,\n",
       "             learning_rate=0.018, max_bin=256, max_cat_threshold=64,\n",
       "             max_cat_to_onehot=4, max_delta_step=0, max_depth=5, max_leaves=0,\n",
       "             min_child_weight=3, missing=nan, monotone_constraints='()',\n",
       "             n_estimators=2000, n_jobs=0, ...)"
      ]
     },
     "execution_count": 81,
     "metadata": {},
     "output_type": "execute_result"
    }
   ],
   "source": [
    "xgb = XGBRegressor(**params)\n",
    "xgb.fit(X_train, y_train,\n",
    "        eval_set=[(X_train,y_train),(X_val, y_val)],\n",
    "        early_stopping_rounds=60,\n",
    "       verbose=False)"
   ]
  },
  {
   "cell_type": "code",
   "execution_count": 82,
   "id": "f6e92a81",
   "metadata": {},
   "outputs": [
    {
     "data": {
      "text/plain": [
       "6.086178930531455"
      ]
     },
     "execution_count": 82,
     "metadata": {},
     "output_type": "execute_result"
    }
   ],
   "source": [
    "predictions = xgb.predict(X_val)\n",
    "smape(y_val,predictions)"
   ]
  },
  {
   "cell_type": "code",
   "execution_count": 83,
   "id": "0d6844a4",
   "metadata": {},
   "outputs": [
    {
     "data": {
      "text/plain": [
       "<AxesSubplot:title={'center':'Feature importance'}, xlabel='F score', ylabel='Features'>"
      ]
     },
     "execution_count": 83,
     "metadata": {},
     "output_type": "execute_result"
    },
    {
     "data": {
      "image/png": "[encoded data removed]",
      "text/plain": [
       "<Figure size 432x288 with 1 Axes>"
      ]
     },
     "metadata": {
      "needs_background": "light"
     },
     "output_type": "display_data"
    }
   ],
   "source": [
    "plot_importance(xgb)"
   ]
  },
  {
   "cell_type": "code",
   "execution_count": 84,
   "id": "bb277a5d",
   "metadata": {},
   "outputs": [],
   "source": [
    "results = xgb.evals_result()"
   ]
  },
  {
   "cell_type": "code",
   "execution_count": 92,
   "id": "b6d73a71",
   "metadata": {},
   "outputs": [
    {
     "data": {
      "image/png": "[encoded data removed]",
      "text/plain": [
       "<Figure size 720x576 with 1 Axes>"
      ]
     },
     "metadata": {
      "needs_background": "light"
     },
     "output_type": "display_data"
    }
   ],
   "source": [
    "from matplotlib import pyplot\n",
    "# plot learning curves\n",
    "results = xgb.evals_result()\n",
    "plt.figure(figsize=(10, 8))\n",
    "pyplot.plot(results['validation_0']['rmse'], label='train')\n",
    "pyplot.plot(results['validation_1']['rmse'], label='test')\n",
    "# show the legend\n",
    "\n",
    "pyplot.legend(fontsize=25)\n",
    "plt.xlabel('iterations',fontsize = 25)\n",
    "plt.ylabel('rmse',fontsize = 25)\n",
    "# show the plot\n",
    "pyplot.show()"
   ]
  },
  {
   "cell_type": "code",
   "execution_count": 86,
   "id": "444d067c",
   "metadata": {},
   "outputs": [
    {
     "data": {
      "text/plain": [
       "[<matplotlib.lines.Line2D at 0x2e45efb81f0>]"
      ]
     },
     "execution_count": 86,
     "metadata": {},
     "output_type": "execute_result"
    },
    {
     "data": {
      "image/png": "[encoded data removed]",
      "text/plain": [
       "<Figure size 1080x432 with 1 Axes>"
      ]
     },
     "metadata": {
      "needs_background": "light"
     },
     "output_type": "display_data"
    }
   ],
   "source": [
    "y = predictions\n",
    "x = range(len(predictions))\n",
    "plt.figure(figsize=(15,6))\n",
    "plt.plot(x,y)\n",
    "plt.plot(x,y_val,'red')"
   ]
  },
  {
   "cell_type": "code",
   "execution_count": null,
   "id": "1968990e",
   "metadata": {},
   "outputs": [],
   "source": []
  },
  {
   "cell_type": "code",
   "execution_count": null,
   "id": "0108063a",
   "metadata": {},
   "outputs": [],
   "source": []
  },
  {
   "cell_type": "code",
   "execution_count": null,
   "id": "5d3d1ae6",
   "metadata": {},
   "outputs": [],
   "source": []
  },
  {
   "cell_type": "code",
   "execution_count": null,
   "id": "79888e6d",
   "metadata": {},
   "outputs": [],
   "source": []
  },
  {
   "cell_type": "code",
   "execution_count": null,
   "id": "d8464d91",
   "metadata": {},
   "outputs": [],
   "source": []
  },
  {
   "cell_type": "code",
   "execution_count": null,
   "id": "edf631b9",
   "metadata": {},
   "outputs": [],
   "source": []
  },
  {
   "cell_type": "code",
   "execution_count": null,
   "id": "a7ef9457",
   "metadata": {},
   "outputs": [],
   "source": []
  },
  {
   "cell_type": "code",
   "execution_count": null,
   "id": "d28f22a1",
   "metadata": {},
   "outputs": [],
   "source": []
  },
  {
   "cell_type": "code",
   "execution_count": null,
   "id": "fb93fcbd",
   "metadata": {},
   "outputs": [],
   "source": []
  }
 ],
 "metadata": {
  "kernelspec": {
   "display_name": "Python 3 (ipykernel)",
   "language": "python",
   "name": "python3"
  },
  "language_info": {
   "codemirror_mode": {
    "name": "ipython",
    "version": 3
   },
   "file_extension": ".py",
   "mimetype": "text/x-python",
   "name": "python",
   "nbconvert_exporter": "python",
   "pygments_lexer": "ipython3",
   "version": "3.9.12"
  },
  "toc": {
   "base_numbering": 1,
   "nav_menu": {},
   "number_sections": true,
   "sideBar": true,
   "skip_h1_title": false,
   "title_cell": "Table of Contents",
   "title_sidebar": "Contents",
   "toc_cell": false,
   "toc_position": {},
   "toc_section_display": true,
   "toc_window_display": true
  }
 },
 "nbformat": 4,
 "nbformat_minor": 5
}
